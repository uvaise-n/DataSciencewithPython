{
 "cells": [
  {
   "cell_type": "markdown",
   "metadata": {
    "colab_type": "text",
    "id": "view-in-github"
   },
   "source": [
    "<a href=\"https://colab.research.google.com/github/anshupandey/techtrunk_training/blob/master/Assignment1_python_getting_started_basics.ipynb\" target=\"_parent\"><img src=\"https://colab.research.google.com/assets/colab-badge.svg\" alt=\"Open In Colab\"/></a>"
   ]
  },
  {
   "cell_type": "markdown",
   "metadata": {
    "colab_type": "text",
    "id": "f1TWTGqob4vF",
    "tags": [
     "Python",
     "Assignments",
     "Practice",
     "course",
     "python"
    ]
   },
   "source": [
    " # Getting Started with Python Basics"
   ]
  },
  {
   "cell_type": "markdown",
   "metadata": {},
   "source": [
    "### Excercise 1\n",
    "\n",
    "<b><p> Write code which accepts a number from user and returns the reverse of it.</b>\n",
    "    <br> For example \n",
    "    <li> reverse_number(852) will return 258\n",
    "    <li> reverse_number(6242) will return 2426\n",
    "    <li> reverse_number(81) will return 18"
   ]
  },
  {
   "cell_type": "code",
   "execution_count": 37,
   "metadata": {},
   "outputs": [],
   "source": [
    "# you code goes here --\n",
    "'''\n",
    "num=int(input(\"Enter number\"))\n",
    "rev = 0\n",
    "while(num>0)\n",
    "rem = num % 10\n",
    "rev = (rev * 10) + rem\n",
    "num = num//10\n",
    "return num\n",
    "'''\n",
    "def rev(num):\n",
    "    num=str(num)\n",
    "    num=list(num)\n",
    "    num.reverse()\n",
    "    num=\"\".join(num)\n",
    "    return int(num)"
   ]
  },
  {
   "cell_type": "code",
   "execution_count": 21,
   "metadata": {},
   "outputs": [
    {
     "output_type": "execute_result",
     "data": {
      "text/plain": [
       "684"
      ]
     },
     "metadata": {},
     "execution_count": 21
    }
   ],
   "source": [
    "rev(486)"
   ]
  },
  {
   "cell_type": "markdown",
   "metadata": {},
   "source": [
    "### Excercise 2\n",
    "\n",
    "<b><p> Write a program that computes the net amount of a bank account based a transaction log from console input. The transaction log format is shown as following: </b>\n",
    "    <br> D 100 \n",
    "    <br> W 200\n",
    "    \n",
    "   For example \n",
    "    \n",
    "    D means deposit while W means withdrawal.\n",
    "    Suppose the following input is supplied to the program:\n",
    "    D 300\n",
    "    D 300\n",
    "    W 200\n",
    "    D 100\n",
    "    Then, the output should be:\n",
    "    500\n",
    "\n",
    "\n",
    "Hints: In case of input data being supplied to the question, it should be assumed to be a console input."
   ]
  },
  {
   "cell_type": "code",
   "execution_count": 117,
   "metadata": {},
   "outputs": [
    {
     "output_type": "stream",
     "name": "stdout",
     "text": [
      "your balance is 500\n"
     ]
    }
   ],
   "source": [
    "ct = input(\"Enter the number of transactions: \")\n",
    "balance= 0\n",
    "for i in range(int(ct)):\n",
    "    transaction = str(input(\"Transaction type (D or W): \"))\n",
    "    amt= int(input(\"What is the Amount: \")) \n",
    "    # write your code here onwards p.s. you can also change this structure to achieve required objective\n",
    "    #transaction = transaction.spilt(\" \")\n",
    "\n",
    "    if (transaction == \"D\"):\n",
    "        balance = balance + amt\n",
    "    else:\n",
    "        balance = balance - amt\n",
    "print (\"your balance is\", balance)"
   ]
  },
  {
   "cell_type": "markdown",
   "metadata": {
    "colab_type": "text",
    "id": "whK_2Ayvb4vI",
    "tags": [
     "reverese_number",
     "python_excercise",
     "code",
     "python"
    ]
   },
   "source": [
    "### Excercise 3\n",
    "\n",
    "<b><p> Write code to generate the fibiniocci series.</b>\n",
    "    <br> \n",
    "  Create a function fib(length) which generates fibiniocci series of a specific lenght.  For example \n",
    "    <li> fib(5) will return [0,1,1,2,3]\n",
    "    <li> fib(8) will return [0,1,1,2,3,5,8,13]\n",
    "    <li> fib(10) will return [0,1,1,2,3,5,8,13,21,34]\n",
    "      <br>you can use [0,1] as known initial values  "
   ]
  },
  {
   "cell_type": "code",
   "execution_count": 1,
   "metadata": {
    "colab": {},
    "colab_type": "code",
    "id": "dWx0iwNAb4vJ"
   },
   "outputs": [],
   "source": [
    "\n",
    "def fib(length):\n",
    "    # you code goes here --\n",
    "    f[0]=1\n",
    "    f[1]=2\n",
    "    f\n",
    "    for int(count)=length\n",
    "    out[]=\n",
    "        \n",
    "    \n",
    "    \n",
    "    return out"
   ]
  },
  {
   "cell_type": "code",
   "execution_count": 6,
   "metadata": {
    "scrolled": true
   },
   "outputs": [
    {
     "data": {
      "text/plain": [
       "[0, 1, 1, 2, 3, 5, 8, 13, 21, 34]"
      ]
     },
     "execution_count": 6,
     "metadata": {},
     "output_type": "execute_result"
    }
   ],
   "source": [
    "fib(10)"
   ]
  },
  {
   "cell_type": "markdown",
   "metadata": {},
   "source": [
    "### Excercise 4\n",
    "\n",
    "<b><p> Download the dataset from  </b>\n",
    "\n",
    " http://norvig.com/ngrams/sowpods.txt \n",
    "\n",
    "    In this exercise, the task is to write a function that picks a random word from a list of words from the downloaded dictionary.\n",
    "\n",
    "<br>This file is Peter Norvig’s compilation of the dictionary of words used in professional Scrabble tournaments. Each line in the file contains a single word.\n",
    "\n",
    "    To solve this exercise, you need to do three things:\n",
    "\n",
    "-\tRead all the lists of words\n",
    "-\tGenerate a random number\n",
    "-\tTake that word\n"
   ]
  },
  {
   "cell_type": "code",
   "execution_count": 107,
   "metadata": {},
   "outputs": [
    {
     "output_type": "stream",
     "name": "stdout",
     "text": [
      "ENURESISES\n"
     ]
    }
   ],
   "source": [
    "with open(r\"http://norvig.com/ngrams/sowpods.txt\", mode='r', encoding='utf-8') as f2:\n",
    "    lines = [line.rstrip() for line in f2]\n",
    "    import random\n",
    "    rn=random.randint(1,len(lines))\n",
    "    print(lines[rn])\n",
    "    \n"
   ]
  },
  {
   "cell_type": "markdown",
   "metadata": {
    "colab_type": "text",
    "id": "W8WYSjV3b4vS",
    "tags": [
     "python",
     "excercise"
    ]
   },
   "source": [
    "### Excercise 5\n",
    "\n",
    "<b><p> Write a program tp generate password of length 8 which should have a minimum number and one minimum upper case character. The password should be randomly generated </b>\n",
    " \n",
    "Hints: you can use pacakge string >> <br>\n",
    "<code> import string</code><br>\n",
    "<code> string.ascii_lowercase</code><br>\n",
    "<code>string.ascii_uppercase</code>\n"
   ]
  },
  {
   "cell_type": "code",
   "execution_count": 119,
   "metadata": {
    "colab": {},
    "colab_type": "code",
    "id": "8ngdJGK3b4vU"
   },
   "outputs": [],
   "source": [
    "def getPassword(length):\n",
    "    import string\n",
    "    r1 = string.ascii_lowercase\n",
    "    r2 = string.ascii_uppercase\n",
    "    r3 = string.digits\n",
    "    passw= ''.join([random.choice(r1+r2+r3)for n in range(length)])\n",
    "    return passw\n"
   ]
  },
  {
   "cell_type": "code",
   "execution_count": 120,
   "metadata": {
    "colab": {},
    "colab_type": "code",
    "id": "YgE1DnDDb4vl"
   },
   "outputs": [
    {
     "output_type": "execute_result",
     "data": {
      "text/plain": [
       "'M1es3JGbge'"
      ]
     },
     "metadata": {},
     "execution_count": 120
    }
   ],
   "source": [
    "# Your solution goes here.\n",
    "getPassword(10)"
   ]
  },
  {
   "cell_type": "code",
   "execution_count": null,
   "metadata": {},
   "outputs": [],
   "source": []
  }
 ],
 "metadata": {
  "colab": {
   "include_colab_link": true,
   "name": "Assignment1_python_getting_started.ipynb",
   "provenance": [],
   "version": "0.3.2"
  },
  "kernelspec": {
   "display_name": "Python 3",
   "language": "python",
   "name": "python3"
  },
  "language_info": {
   "codemirror_mode": {
    "name": "ipython",
    "version": 3
   },
   "file_extension": ".py",
   "mimetype": "text/x-python",
   "name": "python",
   "nbconvert_exporter": "python",
   "pygments_lexer": "ipython3",
   "version": "3.8.3-final"
  },
  "latex_envs": {
   "LaTeX_envs_menu_present": true,
   "autoclose": false,
   "autocomplete": true,
   "bibliofile": "biblio.bib",
   "cite_by": "apalike",
   "current_citInitial": 1,
   "eqLabelWithNumbers": true,
   "eqNumInitial": 1,
   "hotkeys": {
    "equation": "Ctrl-E",
    "itemize": "Ctrl-I"
   },
   "labels_anchors": false,
   "latex_user_defs": false,
   "report_style_numbering": false,
   "user_envs_cfg": false
  }
 },
 "nbformat": 4,
 "nbformat_minor": 1
}